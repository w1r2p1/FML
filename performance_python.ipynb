{
 "cells": [
  {
   "cell_type": "code",
   "execution_count": 43,
   "metadata": {},
   "outputs": [],
   "source": [
    "import numpy as np\n",
    "from pylab import mpl, plt"
   ]
  },
  {
   "cell_type": "code",
   "execution_count": 44,
   "metadata": {},
   "outputs": [],
   "source": [
    "import random\n",
    "import math\n",
    "S0=36.\n",
    "T=1.0\n",
    "r=0.06\n",
    "sigma=0.2\n",
    "# M= number of time intervals for discretisation\n",
    "# I = number of paths to simulate\n",
    "def mcs_simulation_py(p):\n",
    "  M,I = p\n",
    "  dt = T/M\n",
    "  S = np.zeros((M+1,I))\n",
    "  S[0]=S0\n",
    "  rn = np.random.standard_normal(S.shape)\n",
    "  for t in range(1,M+1):\n",
    "    for i in range(I):\n",
    "      S[t,i] = S[t-1,i] * math.exp((r-sigma**2/2) * dt + sigma * math.sqrt(dt) * rn[t,i])\n",
    "  return S"
   ]
  },
  {
   "cell_type": "code",
   "execution_count": 50,
   "metadata": {},
   "outputs": [
    {
     "name": "stdout",
     "output_type": "stream",
     "text": [
      "430 ms ± 7.15 ms per loop (mean ± std. dev. of 7 runs, 1 loop each)\n"
     ]
    }
   ],
   "source": [
    "M=100\n",
    "I=5000\n",
    "%timeit S = mcs_simulation_py((M,I));"
   ]
  },
  {
   "cell_type": "code",
   "execution_count": 51,
   "metadata": {},
   "outputs": [
    {
     "data": {
      "text/plain": [
       "array([[36.        , 36.        , 36.        , ..., 36.        ,\n",
       "        36.        , 36.        ],\n",
       "       [34.99336889, 36.22314648, 36.06877121, ..., 36.83873947,\n",
       "        34.7904923 , 35.57315362],\n",
       "       [36.0957633 , 37.12247389, 36.23214291, ..., 36.18536028,\n",
       "        35.22453701, 34.65687482],\n",
       "       ...,\n",
       "       [34.19536714, 45.72691057, 26.25419141, ..., 45.70396118,\n",
       "        38.11841017, 47.25776982],\n",
       "       [33.64183603, 44.75021041, 26.12325648, ..., 45.58671335,\n",
       "        39.2989233 , 48.26162025],\n",
       "       [33.95998002, 46.19114412, 26.66601888, ..., 45.26196244,\n",
       "        39.12161378, 48.24279444]])"
      ]
     },
     "execution_count": 51,
     "metadata": {},
     "output_type": "execute_result"
    }
   ],
   "source": [
    "S"
   ]
  },
  {
   "cell_type": "code",
   "execution_count": 8,
   "metadata": {},
   "outputs": [
    {
     "data": {
      "text/plain": [
       "3.1622776601683795"
      ]
     },
     "execution_count": 8,
     "metadata": {},
     "output_type": "execute_result"
    }
   ],
   "source": [
    "m.sqrt(10).rn"
   ]
  }
 ],
 "metadata": {
  "kernelspec": {
   "display_name": "Python 3",
   "language": "python",
   "name": "python3"
  },
  "language_info": {
   "codemirror_mode": {
    "name": "ipython",
    "version": 3
   },
   "file_extension": ".py",
   "mimetype": "text/x-python",
   "name": "python",
   "nbconvert_exporter": "python",
   "pygments_lexer": "ipython3",
   "version": "3.7.6"
  }
 },
 "nbformat": 4,
 "nbformat_minor": 4
}
